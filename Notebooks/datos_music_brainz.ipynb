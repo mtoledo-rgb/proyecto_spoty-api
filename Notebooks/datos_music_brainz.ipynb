{
 "cells": [
  {
   "cell_type": "markdown",
   "metadata": {},
   "source": [
    "Importación de librerías"
   ]
  },
  {
   "cell_type": "code",
   "execution_count": 1,
   "metadata": {},
   "outputs": [],
   "source": [
    "# Se importan las librerías necesarias.\n",
    "import os \n",
    "from dotenv import load_dotenv\n",
    "import requests\n",
    "import json\n",
    "import pandas as pd\n",
    "import time\n",
    "\n",
    "# Configuración\n",
    "# -----------------------------------------------------------------------\n",
    "pd.set_option('display.max_columns', None) # para poder visualizar todas las columnas de los DataFrames"
   ]
  },
  {
   "cell_type": "markdown",
   "metadata": {},
   "source": [
    "Creacción de funciones"
   ]
  },
  {
   "cell_type": "code",
   "execution_count": 2,
   "metadata": {},
   "outputs": [],
   "source": [
    "# Crear una función de llamada a la API de Music Brainz\n",
    "\n",
    "def llamar_api_brainz(url):\n",
    "\n",
    "    # Encabezados con el token de acceso\n",
    "\n",
    "    # Realizar una solicitud con el GET a la url proporcionada y almacenar la llamada en una \"respuesta\"\n",
    "    time.sleep(1)\n",
    "    respuesta = requests.get(url)\n",
    "    \n",
    "    # Imprime el código de estado de la respuesta.\n",
    "    print(f\"La llamada a la API nos ha dado una respuesta de tipo: {respuesta.status_code}\")  \n",
    "    \n",
    "    if respuesta.status_code != 200:  # Comprueba si la respuesta no fue exitosa (código de estado distinto de 200).\n",
    "        print(f\"El motivo por el que la llamada falló es {respuesta.reason}\") # Imprime la razón de la falla.\n",
    "         \n",
    "    else:\n",
    "        return respuesta.json()  # Si la llamada fue exitosa, devuelve los datos de respuesta en formato JSON.\n",
    "    "
   ]
  },
  {
   "cell_type": "code",
   "execution_count": 3,
   "metadata": {},
   "outputs": [],
   "source": [
    "# Crear una función para limpiar los datos y transformar el formato JSON en un DataFrame estructurado.\n",
    "\n",
    "def limpiar_datos_brainz(datos):\n",
    "\n",
    "    #Crear un diccionario vacío para almacenar los datos estructurados\n",
    "    datos_brainz = {\n",
    "        \"Artista\":[],\n",
    "        \"Pais_origen\": [],\n",
    "        \"Area_origen\": [],\n",
    "        \"Fecha_ini_act\": [],\n",
    "        \"Fecha_fin_act\": [],\n",
    "        \"Genero\": []\n",
    "        }\n",
    "    \n",
    "    # Iteramos por los datos obtenidos en Musicbrainz para cada uno de los artistas que le hemos proporcionado, para extraer la infomració que necesitamos de esos artistas. \n",
    "    for n in datos:\n",
    "        try:\n",
    "            # Verificar si 'artists' existe y tiene al menos un artista\n",
    "            if 'artists' in n and len(n['artists']) > 0:\n",
    "                # Extraer datos relevantes y agregarlos a las listas del diccionario resultados\n",
    "\n",
    "                # Agregar el nombre del artista\n",
    "                artista = n['artists'][0].get('name', 'no data')\n",
    "                datos_brainz[\"Artista\"].append(artista)\n",
    "                # Obtener 'area' si está disponible\n",
    "                pais_origen = n['artists'][0].get('area', {}).get('name', 'no data')\n",
    "                datos_brainz[\"Pais_origen\"].append(pais_origen)\n",
    "                # Obtener 'begin-area' si está disponible\n",
    "                area_origen = n['artists'][0].get('begin-area', {}).get('name', 'no data')\n",
    "                datos_brainz[\"Area_origen\"].append(area_origen)\n",
    "                # Obtener 'life-span' begin y ended si están disponibles\n",
    "                fecha_ini = n['artists'][0].get('life-span', {}).get('begin', 'no data')\n",
    "                datos_brainz[\"Fecha_ini_act\"].append(fecha_ini)\n",
    "                fecha_fin = n['artists'][0].get('life-span', {}).get('ended', 'no data')\n",
    "                datos_brainz[\"Fecha_fin_act\"].append(fecha_fin)\n",
    "                # Obtrner 'gender' si está disponible\n",
    "                genero = n['artists'][0].get('gender', 'no data')\n",
    "                datos_brainz[\"Genero\"].append(genero)\n",
    "\n",
    "            else:\n",
    "                # Si no hay artistas en la lista, usar 'no data' para todos los campos\n",
    "                datos_brainz[\"Artista\"].append(\"no data\")\n",
    "                datos_brainz[\"Pais_origen\"].append(\"no data\")\n",
    "                datos_brainz[\"Area_origen\"].append(\"no data\")\n",
    "                datos_brainz[\"Fecha_ini_act\"].append(\"no data\")\n",
    "                datos_brainz[\"Fecha_fin_act\"].append(\"no data\")\n",
    "                datos_brainz[\"Genero\"].append(\"no data\")\n",
    "\n",
    "        except KeyError:\n",
    "            # Si ocurre cualquier error inesperado en las claves, manejar con 'no data'\n",
    "            datos_brainz[\"Artista\"].append(\"no data\")\n",
    "            datos_brainz[\"Pais_origen\"].append(\"no data\")\n",
    "            datos_brainz[\"Area_origen\"].append(\"no data\")\n",
    "            datos_brainz[\"Fecha_ini_act\"].append(\"no data\")\n",
    "            datos_brainz[\"Fecha_fin_act\"].append(\"no data\")\n",
    "            datos_brainz[\"Genero\"].append(\"no data\")\n",
    "\n",
    "    \n",
    "    # Crear un DataFrame de Pandas a partir del diccionario resultados\n",
    "    df_datos_brainz = pd.DataFrame(datos_brainz)\n",
    "\n",
    "    # Devolver el DataFrame con los datos limpios y estructurados\n",
    "    return df_datos_brainz\n",
    "    "
   ]
  },
  {
   "cell_type": "markdown",
   "metadata": {},
   "source": [
    "1) Hip Hop"
   ]
  },
  {
   "cell_type": "code",
   "execution_count": null,
   "metadata": {},
   "outputs": [],
   "source": [
    "# HIP HOP\n",
    "\n",
    "# Abrir el archivo.csv donde hay los artistas\n",
    "\n",
    "artistas_hh_path = '/mnt/c/Users/iaraa/Desktop/Adalab/ejercicios-en-adalab/Modulo-2/proyecto-mod-2/proyecto_spoty-api/Data/artistas_hiphop_total.csv'\n",
    "\n",
    "df_hh = pd.read_csv(artistas_hh_path, index_col=0)\n",
    "\n",
    "# Crear una lista para añadir el resultado de la API\n",
    "\n",
    "datos_hh=[]\n",
    "\n",
    "# Definir la url para hacer las llamadas necesarias para cada artista y hacer la llamada a la API\n",
    "\n",
    "for artista in df_hh['0']:\n",
    "    try:\n",
    "        # Construir la URL para llamar a la API cada cantante\n",
    "        url_hh = f'https://musicbrainz.org/ws/2/artist/?query=artist:{artista}&fmt=json'\n",
    "\n",
    "        # Llamar a la función 'llamar_api_brainz' para obtener datos del cantante desde la API.\n",
    "\n",
    "        datos = llamar_api_brainz(url_hh)\n",
    "        \n",
    "        datos_hh.append(datos)\n",
    "        \n",
    "    except:\n",
    "        # Manejar excepciones en caso de que ocurra un error al consultar un artista especifico\n",
    "        print(f\"Estamos teniendo problemas con el siguiente: {artista}\")\n",
    "\n",
    "         "
   ]
  },
  {
   "cell_type": "code",
   "execution_count": null,
   "metadata": {},
   "outputs": [],
   "source": [
    "# HIP HOP\n",
    "\n",
    "len(datos_hh)"
   ]
  },
  {
   "cell_type": "code",
   "execution_count": null,
   "metadata": {},
   "outputs": [],
   "source": [
    "# HIP HOP\n",
    "\n",
    "# Llamar la función de limpieza para obtene los datos \n",
    "\n",
    "df_datos_hh_brainz = limpiar_datos_brainz(datos_hh)\n",
    "df_datos_hh_brainz"
   ]
  },
  {
   "cell_type": "code",
   "execution_count": 14,
   "metadata": {},
   "outputs": [],
   "source": [
    "# HIP HOP\n",
    "# Gaurdar estos datos en la carpeta correcta en formato csv\n",
    "\n",
    "file_path = '/mnt/c/Users/iaraa/Desktop/Adalab/ejercicios-en-adalab/Modulo-2/proyecto-mod-2/proyecto_spoty-api/Data/data_hh_brainz.csv'\n",
    "\n",
    "df_datos_hh_brainz.to_csv(file_path)"
   ]
  },
  {
   "cell_type": "markdown",
   "metadata": {},
   "source": [
    "2) Latino"
   ]
  },
  {
   "cell_type": "code",
   "execution_count": null,
   "metadata": {},
   "outputs": [],
   "source": [
    "# LATINO\n",
    "\n",
    "# Abrir el archivo.csv donde hay los artistas\n",
    "\n",
    "artistas_hh_path = '/mnt/c/Users/iaraa/Desktop/Adalab/ejercicios-en-adalab/Modulo-2/proyecto-mod-2/proyecto_spoty-api/Data/artistas_latino_total.csv'\n",
    "\n",
    "df_lat = pd.read_csv(artistas_hh_path, index_col=0)\n",
    "\n",
    "# Crear una lista para añadir el resultado de la API\n",
    "\n",
    "datos_lat=[]\n",
    "\n",
    "# Definir la url para hacer las llamadas necesarias para cada artista y hacer la llamada a la API\n",
    "\n",
    "for artista in df_lat['0']:\n",
    "    try:\n",
    "        # Construir la URL para llamar a la API cada cantante\n",
    "        url_lat = f'https://musicbrainz.org/ws/2/artist/?query=artist:{artista}&fmt=json'\n",
    "\n",
    "        # Llamar a la función 'llamar_api_brainz' para obtener datos del cantante desde la API.\n",
    "\n",
    "        datos = llamar_api_brainz(url_lat)\n",
    "        \n",
    "        datos_lat.append(datos)\n",
    "        \n",
    "    except:\n",
    "        # Manejar excepciones en caso de que ocurra un error al consultar un artista especifico\n",
    "        print(f\"Estamos teniendo problemas con el siguiente: {artista}\")"
   ]
  },
  {
   "cell_type": "code",
   "execution_count": null,
   "metadata": {},
   "outputs": [],
   "source": [
    "# LATINO\n",
    "\n",
    "len(datos_lat)"
   ]
  },
  {
   "cell_type": "code",
   "execution_count": null,
   "metadata": {},
   "outputs": [],
   "source": [
    "# LATINO\n",
    "\n",
    "# Llamar la función de limpieza para obtene los datos \n",
    "\n",
    "df_datos_lat_brainz = limpiar_datos_brainz(datos_lat)\n",
    "df_datos_lat_brainz"
   ]
  },
  {
   "cell_type": "code",
   "execution_count": 18,
   "metadata": {},
   "outputs": [],
   "source": [
    "# LATINO\n",
    "\n",
    "# Gaurdar estos datos en la carpeta correcta en formato csv\n",
    "\n",
    "file_path_latino = '/mnt/c/Users/iaraa/Desktop/Adalab/ejercicios-en-adalab/Modulo-2/proyecto-mod-2/proyecto_spoty-api/Data/data_lat_brainz.csv'\n",
    "\n",
    "df_datos_lat_brainz.to_csv(file_path_latino)"
   ]
  },
  {
   "cell_type": "markdown",
   "metadata": {},
   "source": [
    "3) Pop"
   ]
  },
  {
   "cell_type": "code",
   "execution_count": null,
   "metadata": {},
   "outputs": [],
   "source": [
    "# POP\n",
    "\n",
    "# Abrir el archivo.csv donde hay los artistas\n",
    "\n",
    "artistas_pop_path = '/mnt/c/Users/iaraa/Desktop/Adalab/ejercicios-en-adalab/Modulo-2/proyecto-mod-2/proyecto_spoty-api/Data/artistas_pop_2022_2023.csv'\n",
    "\n",
    "df_pop = pd.read_csv(artistas_pop_path, index_col=0)\n",
    "\n",
    "# Crear una lista para añadir el resultado de la API\n",
    "\n",
    "datos_pop=[]\n",
    "\n",
    "# Definir la url para hacer las llamadas necesarias para cada artista y hacer la llamada a la API\n",
    "\n",
    "for artista in df_pop['0']:\n",
    "    try:\n",
    "        # Construir la URL para llamar a la API cada cantante\n",
    "        url_pop = f'https://musicbrainz.org/ws/2/artist/?query=artist:{artista}&fmt=json'\n",
    "\n",
    "        # Llamar a la función 'llamar_api_brainz' para obtener datos del cantante desde la API.\n",
    "\n",
    "        datos = llamar_api_brainz(url_pop)\n",
    "        \n",
    "        datos_pop.append(datos)\n",
    "        \n",
    "    except:\n",
    "        # Manejar excepciones en caso de que ocurra un error al consultar un artista especifico\n",
    "        print(f\"Estamos teniendo problemas con el siguiente: {artista}\")"
   ]
  },
  {
   "cell_type": "code",
   "execution_count": null,
   "metadata": {},
   "outputs": [],
   "source": [
    "# POP\n",
    "\n",
    "len(datos_pop)"
   ]
  },
  {
   "cell_type": "code",
   "execution_count": null,
   "metadata": {},
   "outputs": [],
   "source": [
    "# POP\n",
    "\n",
    "# Llamar la función de limpieza para obtene los datos \n",
    "\n",
    "df_datos_pop_brainz = limpiar_datos_brainz(datos_pop)\n",
    "df_datos_pop_brainz"
   ]
  },
  {
   "cell_type": "code",
   "execution_count": null,
   "metadata": {},
   "outputs": [],
   "source": [
    "# POP\n",
    "\n",
    "# Gaurdar estos datos en la carpeta correcta en formato csv\n",
    "\n",
    "file_path_pop = '/mnt/c/Users/iaraa/Desktop/Adalab/ejercicios-en-adalab/Modulo-2/proyecto-mod-2/proyecto_spoty-api/Data/datos_pop_brainz.csv'\n",
    "\n",
    "df_datos_pop_brainz.to_csv(file_path_pop)"
   ]
  },
  {
   "cell_type": "markdown",
   "metadata": {},
   "source": [
    "4) Rock"
   ]
  },
  {
   "cell_type": "code",
   "execution_count": null,
   "metadata": {},
   "outputs": [],
   "source": [
    "# ROCK\n",
    "\n",
    "# Abrir el archivo.csv donde hay los artistas\n",
    "\n",
    "artistas_rock_path = '/mnt/c/Users/iaraa/Desktop/Adalab/ejercicios-en-adalab/Modulo-2/proyecto-mod-2/proyecto_spoty-api/Data/artistas_rock_2022_2023.csv'\n",
    "\n",
    "df_rock = pd.read_csv(artistas_rock_path, index_col=0)\n",
    "\n",
    "# Crear una lista para añadir el resultado de la API\n",
    "\n",
    "datos_rock=[]\n",
    "\n",
    "# Definir la url para hacer las llamadas necesarias para cada artista y hacer la llamada a la API\n",
    "\n",
    "for artista in df_rock['0']:\n",
    "    try:\n",
    "        # Construir la URL para llamar a la API cada cantante\n",
    "        url_rock = f'https://musicbrainz.org/ws/2/artist/?query=artist:{artista}&fmt=json'\n",
    "\n",
    "        # Llamar a la función 'llamar_api_brainz' para obtener datos del cantante desde la API.\n",
    "\n",
    "        datos = llamar_api_brainz(url_rock)\n",
    "        \n",
    "        datos_rock.append(datos)\n",
    "        \n",
    "    except:\n",
    "        # Manejar excepciones en caso de que ocurra un error al consultar un artista especifico\n",
    "        print(f\"Estamos teniendo problemas con el siguiente: {artista}\")"
   ]
  },
  {
   "cell_type": "code",
   "execution_count": null,
   "metadata": {},
   "outputs": [],
   "source": [
    "# ROCK\n",
    "\n",
    "len(datos_rock)"
   ]
  },
  {
   "cell_type": "code",
   "execution_count": null,
   "metadata": {},
   "outputs": [],
   "source": [
    "# ROCK\n",
    "\n",
    "# Llamar la función de limpieza para obtene los datos \n",
    "\n",
    "df_datos_rock_brainz = limpiar_datos_brainz(datos_rock)\n",
    "df_datos_rock_brainz"
   ]
  },
  {
   "cell_type": "code",
   "execution_count": null,
   "metadata": {},
   "outputs": [],
   "source": [
    "# ROCK\n",
    "\n",
    "# Gaurdar estos datos en la carpeta correcta en formato csv\n",
    "\n",
    "file_path_rock = '/mnt/c/Users/iaraa/Desktop/Adalab/ejercicios-en-adalab/Modulo-2/proyecto-mod-2/proyecto_spoty-api/Data/datos_rock_brainz.csv'\n",
    "\n",
    "df_datos_rock_brainz.to_csv(file_path_rock)"
   ]
  }
 ],
 "metadata": {
  "kernelspec": {
   "display_name": "base",
   "language": "python",
   "name": "python3"
  },
  "language_info": {
   "codemirror_mode": {
    "name": "ipython",
    "version": 3
   },
   "file_extension": ".py",
   "mimetype": "text/x-python",
   "name": "python",
   "nbconvert_exporter": "python",
   "pygments_lexer": "ipython3",
   "version": "3.12.4"
  }
 },
 "nbformat": 4,
 "nbformat_minor": 2
}
