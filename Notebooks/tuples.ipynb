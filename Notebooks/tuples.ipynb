{
 "cells": [
  {
   "cell_type": "code",
   "execution_count": 25,
   "metadata": {},
   "outputs": [],
   "source": [
    "# Importar las librerías necesarias\n",
    "\n",
    "import pandas as pd\n",
    "\n",
    "import os\n",
    "\n",
    "import csv"
   ]
  },
  {
   "cell_type": "code",
   "execution_count": 26,
   "metadata": {},
   "outputs": [],
   "source": [
    "# Función para transfomar un Dataframe en una lista de tuplas usando el itertuples\n",
    "# Parámetros:\n",
    "    # df (pd.DataFrame): El DataFrame a convertir.\n",
    "# index (bool): Si es False, no incluye el índice en cada tupla.\n",
    "\n",
    "\n",
    "def dataframe_tuples (df):\n",
    "\n",
    "    return list(df.itertuples(index=False, name=None))"
   ]
  },
  {
   "cell_type": "code",
   "execution_count": 23,
   "metadata": {},
   "outputs": [],
   "source": [
    "# Función para guardar las listas de tuplas en la carpeta\n",
    "\n",
    "# Parámetros: \n",
    "    # tuples_list (list): La lista de tuplas a guardar.\n",
    "    # folder_path (str): La ruta de la carpeta donde se guardará el archivo.\n",
    "    # file_name (str): El nombre del archivo CSV.\n",
    "\n",
    "def save_tuples_to_csv(tuples_list, folder_path, file_name):\n",
    "    # Asegurarse de que la carpeta existe\n",
    "    os.makedirs(folder_path, exist_ok=True)\n",
    "    \n",
    "    # Ruta completa del archivo\n",
    "    file_path = os.path.join(folder_path, file_name)\n",
    "    \n",
    "    # Escribir la lista de tuplas en el archivo CSV\n",
    "    with open(file_path, mode='w', newline='') as file:\n",
    "        writer = csv.writer(file)\n",
    "        writer.writerows(tuples_list)\n",
    "    \n",
    "    print(f\"Archivo guardado en: {file_path}\")\n",
    "\n"
   ]
  },
  {
   "cell_type": "code",
   "execution_count": 31,
   "metadata": {},
   "outputs": [
    {
     "name": "stdout",
     "output_type": "stream",
     "text": [
      "Archivo guardado en: /mnt/c/Users/iaraa/Desktop/Adalab/ejercicios-en-adalab/Modulo-2/proyecto-mod-2/proyecto_spoty-api/Data/Tuples/tuples_hh_sp.csv\n"
     ]
    }
   ],
   "source": [
    "# Abrir el csv de HIPHOP - SPOTIPY\n",
    "\n",
    "df_hh_sp_path = '/mnt/c/Users/iaraa/Desktop/Adalab/ejercicios-en-adalab/Modulo-2/proyecto-mod-2/proyecto_spoty-api/Data/dataframe_hiphop.csv'\n",
    "\n",
    "df_hh_sp = pd.read_csv(df_hh_sp_path, index_col=0)\n",
    "\n",
    "# Llamar a la función de dataframe_tuples\n",
    "\n",
    "tuples_hh_sp = dataframe_tuples(df_hh_sp)\n",
    "\n",
    "tuples_hh_sp\n",
    "\n",
    "# Guardar esta lista en la carpeta \n",
    "folder_path ='/mnt/c/Users/iaraa/Desktop/Adalab/ejercicios-en-adalab/Modulo-2/proyecto-mod-2/proyecto_spoty-api/Data/Tuples'\n",
    "file_name_hh = 'tuples_hh_sp.csv'\n",
    "\n",
    "# Llamar a la función\n",
    "save_tuples_to_csv(tuples_hh_sp, folder_path,file_name_hh)"
   ]
  },
  {
   "cell_type": "code",
   "execution_count": 32,
   "metadata": {},
   "outputs": [
    {
     "name": "stdout",
     "output_type": "stream",
     "text": [
      "Archivo guardado en: /mnt/c/Users/iaraa/Desktop/Adalab/ejercicios-en-adalab/Modulo-2/proyecto-mod-2/proyecto_spoty-api/Data/Tuples/tuples_lat_sp.csv\n"
     ]
    }
   ],
   "source": [
    "# Abrir el csv de LATINO - SPOTIPY\n",
    "\n",
    "df_lat_sp_path = '/mnt/c/Users/iaraa/Desktop/Adalab/ejercicios-en-adalab/Modulo-2/proyecto-mod-2/proyecto_spoty-api/Data/dataframe_latino.csv'\n",
    "\n",
    "df_lat_sp = pd.read_csv(df_lat_sp_path, index_col=0)\n",
    "\n",
    "# Llamar a la función de dataframe_tuples\n",
    "\n",
    "tuples_lat_sp = dataframe_tuples(df_lat_sp)\n",
    "\n",
    "tuples_lat_sp\n",
    "\n",
    "# Guardar esta lista en la carpeta \n",
    "folder_path ='/mnt/c/Users/iaraa/Desktop/Adalab/ejercicios-en-adalab/Modulo-2/proyecto-mod-2/proyecto_spoty-api/Data/Tuples'\n",
    "file_name_lat = 'tuples_lat_sp.csv'\n",
    "\n",
    "# Llamar a la función\n",
    "save_tuples_to_csv(tuples_lat_sp, folder_path,file_name_lat)"
   ]
  },
  {
   "cell_type": "code",
   "execution_count": 33,
   "metadata": {},
   "outputs": [
    {
     "name": "stdout",
     "output_type": "stream",
     "text": [
      "Archivo guardado en: /mnt/c/Users/iaraa/Desktop/Adalab/ejercicios-en-adalab/Modulo-2/proyecto-mod-2/proyecto_spoty-api/Data/Tuples/tuples_pop_sp.csv\n"
     ]
    }
   ],
   "source": [
    "# Abrir el csv de POP - SPOTIPY\n",
    "\n",
    "df_pop_sp_path = '/mnt/c/Users/iaraa/Desktop/Adalab/ejercicios-en-adalab/Modulo-2/proyecto-mod-2/proyecto_spoty-api/Data/dataframe_pop.csv'\n",
    "\n",
    "df_pop_sp = pd.read_csv(df_pop_sp_path, index_col=0)\n",
    "\n",
    "# Llamar a la función de dataframe_tuples\n",
    "\n",
    "tuples_pop_sp = dataframe_tuples(df_pop_sp)\n",
    "\n",
    "tuples_pop_sp\n",
    "\n",
    "# Guardar esta lista en la carpeta \n",
    "folder_path ='/mnt/c/Users/iaraa/Desktop/Adalab/ejercicios-en-adalab/Modulo-2/proyecto-mod-2/proyecto_spoty-api/Data/Tuples'\n",
    "file_name_pop = 'tuples_pop_sp.csv'\n",
    "\n",
    "# Llamar a la función\n",
    "save_tuples_to_csv(tuples_pop_sp, folder_path,file_name_pop)"
   ]
  },
  {
   "cell_type": "code",
   "execution_count": 34,
   "metadata": {},
   "outputs": [
    {
     "name": "stdout",
     "output_type": "stream",
     "text": [
      "Archivo guardado en: /mnt/c/Users/iaraa/Desktop/Adalab/ejercicios-en-adalab/Modulo-2/proyecto-mod-2/proyecto_spoty-api/Data/Tuples/tuples_rock_sp.csv\n"
     ]
    }
   ],
   "source": [
    "# Abrir el csv de ROCK - SPOTIPY\n",
    "\n",
    "df_rock_sp_path = '/mnt/c/Users/iaraa/Desktop/Adalab/ejercicios-en-adalab/Modulo-2/proyecto-mod-2/proyecto_spoty-api/Data/dataframe_rock.csv'\n",
    "\n",
    "df_rock_sp = pd.read_csv(df_rock_sp_path, index_col=0)\n",
    "\n",
    "# Llamar a la función de dataframe_tuples\n",
    "\n",
    "tuples_rock_sp = dataframe_tuples(df_rock_sp)\n",
    "\n",
    "tuples_rock_sp\n",
    "\n",
    "# Guardar esta lista en la carpeta \n",
    "folder_path ='/mnt/c/Users/iaraa/Desktop/Adalab/ejercicios-en-adalab/Modulo-2/proyecto-mod-2/proyecto_spoty-api/Data/Tuples'\n",
    "file_name_rock = 'tuples_rock_sp.csv'\n",
    "\n",
    "# Llamar a la función\n",
    "save_tuples_to_csv(tuples_rock_sp, folder_path,file_name_rock)"
   ]
  },
  {
   "cell_type": "code",
   "execution_count": 35,
   "metadata": {},
   "outputs": [
    {
     "name": "stdout",
     "output_type": "stream",
     "text": [
      "Archivo guardado en: /mnt/c/Users/iaraa/Desktop/Adalab/ejercicios-en-adalab/Modulo-2/proyecto-mod-2/proyecto_spoty-api/Data/Tuples/tuples_hh_mb.csv\n"
     ]
    }
   ],
   "source": [
    "# Abrir el csv de HIPHOP - MUSIC BRAINZ\n",
    "\n",
    "df_hh_path = '/mnt/c/Users/iaraa/Desktop/Adalab/ejercicios-en-adalab/Modulo-2/proyecto-mod-2/proyecto_spoty-api/Data/data_hh_brainz.csv'\n",
    "\n",
    "df_hh = pd.read_csv(df_hh_path, index_col=0)\n",
    "\n",
    "# Llamar a la función de dataframe_tuples\n",
    "\n",
    "tuples_hh = dataframe_tuples(df_hh)\n",
    "\n",
    "tuples_hh\n",
    "\n",
    "# Guardar esta lista en la carpeta \n",
    "folder_path ='/mnt/c/Users/iaraa/Desktop/Adalab/ejercicios-en-adalab/Modulo-2/proyecto-mod-2/proyecto_spoty-api/Data/Tuples'\n",
    "file_name_hh_MB = 'tuples_hh_mb.csv'\n",
    "\n",
    "# Llamar a la función\n",
    "save_tuples_to_csv(tuples_hh, folder_path,file_name_hh_MB)"
   ]
  },
  {
   "cell_type": "code",
   "execution_count": 36,
   "metadata": {},
   "outputs": [
    {
     "name": "stdout",
     "output_type": "stream",
     "text": [
      "Archivo guardado en: /mnt/c/Users/iaraa/Desktop/Adalab/ejercicios-en-adalab/Modulo-2/proyecto-mod-2/proyecto_spoty-api/Data/Tuples/tuples_lat_mb.csv\n"
     ]
    }
   ],
   "source": [
    "# Abrir el csv de LATINO - MUSIC BRAINZ\n",
    "\n",
    "df_lat_path = '/mnt/c/Users/iaraa/Desktop/Adalab/ejercicios-en-adalab/Modulo-2/proyecto-mod-2/proyecto_spoty-api/Data/data_lat_brainz.csv'\n",
    "\n",
    "df_lat = pd.read_csv(df_lat_path, index_col=0)\n",
    "\n",
    "# Llamar a la función de dataframe_tuples\n",
    "\n",
    "tuples_lat = dataframe_tuples(df_lat)\n",
    "\n",
    "tuples_lat\n",
    "\n",
    "# Guardar esta lista en la carpeta \n",
    "folder_path ='/mnt/c/Users/iaraa/Desktop/Adalab/ejercicios-en-adalab/Modulo-2/proyecto-mod-2/proyecto_spoty-api/Data/Tuples'\n",
    "file_name_lat_MB = 'tuples_lat_mb.csv'\n",
    "\n",
    "# Llamar a la función\n",
    "save_tuples_to_csv(tuples_lat, folder_path,file_name_lat_MB)"
   ]
  },
  {
   "cell_type": "code",
   "execution_count": 37,
   "metadata": {},
   "outputs": [
    {
     "name": "stdout",
     "output_type": "stream",
     "text": [
      "Archivo guardado en: /mnt/c/Users/iaraa/Desktop/Adalab/ejercicios-en-adalab/Modulo-2/proyecto-mod-2/proyecto_spoty-api/Data/Tuples/tuples_pop_mb.csv\n"
     ]
    }
   ],
   "source": [
    "# Abrir el csv de POP - MUSIC BRAINZ\n",
    "\n",
    "df_pop_path = '/mnt/c/Users/iaraa/Desktop/Adalab/ejercicios-en-adalab/Modulo-2/proyecto-mod-2/proyecto_spoty-api/Data/datos_pop_brainz.csv'\n",
    "\n",
    "df_pop = pd.read_csv(df_pop_path, index_col=0)\n",
    "\n",
    "# Llamar a la función de dataframe_tuples\n",
    "\n",
    "tuples_pop = dataframe_tuples(df_pop)\n",
    "\n",
    "tuples_pop\n",
    "\n",
    "# Guardar esta lista en la carpeta \n",
    "folder_path ='/mnt/c/Users/iaraa/Desktop/Adalab/ejercicios-en-adalab/Modulo-2/proyecto-mod-2/proyecto_spoty-api/Data/Tuples'\n",
    "file_name_pop_MB = 'tuples_pop_mb.csv'\n",
    "\n",
    "# Llamar a la función\n",
    "save_tuples_to_csv(tuples_pop, folder_path,file_name_pop_MB)"
   ]
  },
  {
   "cell_type": "code",
   "execution_count": 38,
   "metadata": {},
   "outputs": [
    {
     "name": "stdout",
     "output_type": "stream",
     "text": [
      "Archivo guardado en: /mnt/c/Users/iaraa/Desktop/Adalab/ejercicios-en-adalab/Modulo-2/proyecto-mod-2/proyecto_spoty-api/Data/Tuples/tuples_rock_mb.csv\n"
     ]
    }
   ],
   "source": [
    "# Abrir el csv de ROCK - MUSIC BRAINZ\n",
    "\n",
    "df_rock_path = '/mnt/c/Users/iaraa/Desktop/Adalab/ejercicios-en-adalab/Modulo-2/proyecto-mod-2/proyecto_spoty-api/Data/datos_rock_brainz.csv'\n",
    "\n",
    "df_rock = pd.read_csv(df_rock_path, index_col=0)\n",
    "\n",
    "# Llamar a la función de dataframe_tuples\n",
    "\n",
    "tuples_rock = dataframe_tuples(df_rock)\n",
    "\n",
    "tuples_rock\n",
    "\n",
    "# Guardar esta lista en la carpeta \n",
    "folder_path ='/mnt/c/Users/iaraa/Desktop/Adalab/ejercicios-en-adalab/Modulo-2/proyecto-mod-2/proyecto_spoty-api/Data/Tuples'\n",
    "file_name_rock_MB = 'tuples_rock_mb.csv'\n",
    "\n",
    "# Llamar a la función\n",
    "save_tuples_to_csv(tuples_rock, folder_path,file_name_rock_MB)"
   ]
  }
 ],
 "metadata": {
  "kernelspec": {
   "display_name": "base",
   "language": "python",
   "name": "python3"
  },
  "language_info": {
   "codemirror_mode": {
    "name": "ipython",
    "version": 3
   },
   "file_extension": ".py",
   "mimetype": "text/x-python",
   "name": "python",
   "nbconvert_exporter": "python",
   "pygments_lexer": "ipython3",
   "version": "3.12.4"
  }
 },
 "nbformat": 4,
 "nbformat_minor": 2
}
