{
 "cells": [
  {
   "cell_type": "markdown",
   "metadata": {},
   "source": [
    "Importación de librerías"
   ]
  },
  {
   "cell_type": "code",
   "execution_count": 38,
   "metadata": {},
   "outputs": [],
   "source": [
    "# Se importan las librerías necesarias.\n",
    "import os \n",
    "from dotenv import load_dotenv\n",
    "import requests\n",
    "import json\n",
    "import pandas as pd\n",
    "import csv\n",
    "\n",
    "# Bibliotecas para conectar a la API de Spotify \n",
    "import spotipy\n",
    "from spotipy.oauth2 import SpotifyClientCredentials\n",
    "\n",
    "# Cargamos las credenciales del .env\n",
    "load_dotenv()\n",
    "\n",
    "client_id_i = os.getenv('client_id_i')\n",
    "client_secret_i = os.getenv('client_secret_i')"
   ]
  },
  {
   "cell_type": "markdown",
   "metadata": {},
   "source": [
    "Creación de funciones"
   ]
  },
  {
   "cell_type": "code",
   "execution_count": 26,
   "metadata": {},
   "outputs": [],
   "source": [
    "# Crea un cliente en Spotipy para acceder a la API de Spotify\n",
    "# Parámetros:\n",
    "#  client_id (str): ID del cliente de la API de Spotify.\n",
    "#  client_secret (str): Secreto del cliente de la API de Spotify.\n",
    "\n",
    "def crear_cliente_spotify(client_id, client_secret):\n",
    "            \n",
    "    # Configurar el administrador de credenciales de cliente\n",
    "    client_credentials_manager = SpotifyClientCredentials(client_id=client_id, client_secret=client_secret)\n",
    "    \n",
    "    #  cliente de Spotipy\n",
    "    return spotipy.Spotify(client_credentials_manager=client_credentials_manager)"
   ]
  },
  {
   "cell_type": "code",
   "execution_count": 29,
   "metadata": {},
   "outputs": [],
   "source": [
    "# Crear función para obtener las canciones por generos y año de Spotify\n",
    "\n",
    "# Parámetros:\n",
    "#  sp (spotipy.Spotify): Cliente de Spotipy autenticado.\n",
    "#  genero (str): El género musical a buscar.\n",
    "#  ano (int): El año de lanzamiento de las canciones a buscar.\n",
    "#  limite (int): El número máximo de canciones a recopilar. Por defecto es 500.\n",
    "\n",
    "# Retorna:\n",
    "#  dict: Un diccionario con la información de las canciones\n",
    "\n",
    "def resultado_canciones_genero(sp, genero, ano, limite=500):\n",
    "\n",
    "    dicc_canciones = {\"Artista\": [], \"Album\": [], \"Cancion\": [], \"Año Lanzamiento\": [], \"Total tracks\": []}\n",
    "    contador = 0\n",
    "\n",
    "    while contador < limite:\n",
    "        for valor in range(0, 451, 50):\n",
    "            result = sp.search(q=f'genre: {genero} year: {ano}', type='track', limit=50, offset={valor})\n",
    "            \n",
    "            \n",
    "            for elemento in result['tracks']['items']:\n",
    "                dicc_canciones[\"Artista\"].append(elemento['artists'][0]['name'])\n",
    "                dicc_canciones[\"Album\"].append(elemento['album']['name'])\n",
    "                dicc_canciones[\"Cancion\"].append(elemento['name'])\n",
    "                dicc_canciones[\"Año Lanzamiento\"].append(elemento['album']['release_date'])\n",
    "                dicc_canciones[\"Total tracks\"].append(elemento['album']['total_tracks'])\n",
    "                \n",
    "                contador += 1\n",
    "                \n",
    "                if contador >= limite:\n",
    "                    break\n",
    "            if contador >= limite:\n",
    "                break\n",
    "\n",
    "    return dicc_canciones"
   ]
  },
  {
   "cell_type": "markdown",
   "metadata": {},
   "source": [
    "Utilizar la función de las crendenciales para utilizar la biblioteca Spotipy"
   ]
  },
  {
   "cell_type": "code",
   "execution_count": 27,
   "metadata": {},
   "outputs": [],
   "source": [
    "# Llamar la función de crear cliente en spotify\n",
    "\n",
    "sp = crear_cliente_spotify(client_id_i, client_secret_i)"
   ]
  },
  {
   "cell_type": "markdown",
   "metadata": {},
   "source": [
    "1. Hip Hop "
   ]
  },
  {
   "cell_type": "code",
   "execution_count": 31,
   "metadata": {},
   "outputs": [],
   "source": [
    "# Utilizar la función para extrair los datos de 2022\n",
    "\n",
    "dicc_canciones_hh_2022 = resultado_canciones_genero(sp, genero='hiphop', ano=2022, limite=500)"
   ]
  },
  {
   "cell_type": "code",
   "execution_count": 32,
   "metadata": {},
   "outputs": [],
   "source": [
    "# Utilizar la función para extrair los datos de 2023\n",
    "\n",
    "dicc_canciones_hh_2023 = resultado_canciones_genero(sp, genero='hiphop', ano=2023, limite=500)"
   ]
  },
  {
   "cell_type": "code",
   "execution_count": null,
   "metadata": {},
   "outputs": [],
   "source": [
    "# Crear Dataframe para los dos años extraídos, 2022 y 2023.\n",
    "\n",
    "df_hh_22 = pd.DataFrame(dicc_canciones_hh_2022)\n",
    "\n",
    "df_hh_23 = pd.DataFrame(dicc_canciones_hh_2023)\n",
    "\n",
    "# Unir los dos dataframes que tenemos (de 2022 y 2023). Utilizamos el ignore_index para crear un nuevo index con las 1000 canciones\n",
    "\n",
    "dataframe_hiphop = pd.concat([df_hh_22, df_hh_23], ignore_index =True)"
   ]
  },
  {
   "cell_type": "code",
   "execution_count": null,
   "metadata": {},
   "outputs": [],
   "source": [
    "# Guardar este DataFrame total como CSV\n",
    "\n",
    "dataframe_hiphop.to_csv('../Data/dataframe_hiphop.csv')"
   ]
  },
  {
   "cell_type": "code",
   "execution_count": 37,
   "metadata": {},
   "outputs": [
    {
     "data": {
      "text/plain": [
       "numpy.ndarray"
      ]
     },
     "execution_count": 37,
     "metadata": {},
     "output_type": "execute_result"
    }
   ],
   "source": [
    "# Lista con los artistas unicos que aparecen en estos dos años seleccionados\n",
    "\n",
    "artistas_hiphop_total = dataframe_hiphop[\"Artista\"].unique()\n",
    "\n",
    "type(dataframe_hiphop[\"Artista\"].unique())"
   ]
  },
  {
   "cell_type": "code",
   "execution_count": null,
   "metadata": {},
   "outputs": [],
   "source": [
    "# Guardar esta lista con artistas unico como CSV\n",
    "\n",
    "artistas_hiphop_total = pd.DataFrame (artistas_hiphop_total)\n",
    "\n",
    "artistas_hiphop_total.to_csv('../Data/artistas_hiphop_total.csv')"
   ]
  },
  {
   "cell_type": "markdown",
   "metadata": {},
   "source": [
    "2. Latino"
   ]
  },
  {
   "cell_type": "code",
   "execution_count": 39,
   "metadata": {},
   "outputs": [],
   "source": [
    "# Utilizar la función para extrair los datos de 2022\n",
    "\n",
    "dicc_canciones_lat_2022 = resultado_canciones_genero(sp, genero='latino', ano=2022, limite=500)"
   ]
  },
  {
   "cell_type": "code",
   "execution_count": 40,
   "metadata": {},
   "outputs": [],
   "source": [
    "# Utilizar la función para extrair los datos de 2023\n",
    "\n",
    "dicc_canciones_lat_2023 = resultado_canciones_genero(sp, genero='latino', ano=2023, limite=500)"
   ]
  },
  {
   "cell_type": "code",
   "execution_count": 41,
   "metadata": {},
   "outputs": [],
   "source": [
    "# Crear Dataframe para los dos años extraídos, 2022 y 2023.\n",
    "\n",
    "df_lat_22 = pd.DataFrame(dicc_canciones_lat_2022)\n",
    "\n",
    "df_lat_23 = pd.DataFrame(dicc_canciones_lat_2023)\n",
    "\n",
    "# Unir los dos dataframes que tenemos (de 2022 y 2023). Utilizamos el ignore_index para crear un nuevo index con las 1000 canciones\n",
    "\n",
    "dataframe_latino = pd.concat([df_lat_22, df_lat_23], ignore_index =True)"
   ]
  },
  {
   "cell_type": "code",
   "execution_count": null,
   "metadata": {},
   "outputs": [],
   "source": [
    "# Guardar este DataFrame total como CSV\n",
    "\n",
    "dataframe_latino.to_csv('../Data/dataframe_latino.csv')"
   ]
  },
  {
   "cell_type": "code",
   "execution_count": 42,
   "metadata": {},
   "outputs": [
    {
     "data": {
      "text/plain": [
       "numpy.ndarray"
      ]
     },
     "execution_count": 42,
     "metadata": {},
     "output_type": "execute_result"
    }
   ],
   "source": [
    "# Lista con los artistas unicos que aparecen en estos dos años seleccionados\n",
    "\n",
    "artistas_latino_total = dataframe_latino[\"Artista\"].unique()\n",
    "\n",
    "type(dataframe_latino[\"Artista\"].unique())\n",
    "\n",
    "# Guardar esta lista con artistas unico como CSV\n",
    "\n",
    "artistas_latino_total = pd.DataFrame (artistas_latino_total)\n",
    "\n",
    "artistas_latino_total.to_csv('../Data/artistas_latino_total.csv')"
   ]
  },
  {
   "cell_type": "markdown",
   "metadata": {},
   "source": [
    "3. Pop"
   ]
  },
  {
   "cell_type": "code",
   "execution_count": 43,
   "metadata": {},
   "outputs": [],
   "source": [
    "# Utilizar la función para extrair los datos de 2022\n",
    "\n",
    "dicc_canciones_pop_2022 = resultado_canciones_genero(sp, genero='pop', ano=2022, limite=500)"
   ]
  },
  {
   "cell_type": "code",
   "execution_count": 44,
   "metadata": {},
   "outputs": [],
   "source": [
    "# Utilizar la función para extrair los datos de 2023\n",
    "\n",
    "dicc_canciones_pop_2023 = resultado_canciones_genero(sp, genero='pop', ano=2023, limite=500)"
   ]
  },
  {
   "cell_type": "code",
   "execution_count": 45,
   "metadata": {},
   "outputs": [],
   "source": [
    "# Crear Dataframe para los dos años extraídos, 2022 y 2023.\n",
    "\n",
    "df_pop_22 = pd.DataFrame(dicc_canciones_pop_2022)\n",
    "\n",
    "df_pop_23 = pd.DataFrame(dicc_canciones_pop_2023)\n",
    "\n",
    "# Unir los dos dataframes que tenemos (de 2022 y 2023). Utilizamos el ignore_index para crear un nuevo index con las 1000 canciones\n",
    "\n",
    "dataframe_pop = pd.concat([df_pop_22, df_pop_23], ignore_index =True)"
   ]
  },
  {
   "cell_type": "code",
   "execution_count": null,
   "metadata": {},
   "outputs": [],
   "source": [
    "# Guardar este DataFrame total como CSV\n",
    "\n",
    "dataframe_pop.to_csv('../Data/dataframe_pop.csv')"
   ]
  },
  {
   "cell_type": "code",
   "execution_count": null,
   "metadata": {},
   "outputs": [],
   "source": [
    "# Lista con los artistas unicos que aparecen en estos dos años seleccionados\n",
    "\n",
    "artistas_pop_total = dataframe_pop[\"Artista\"].unique()\n",
    "\n",
    "type(dataframe_pop[\"Artista\"].unique())\n",
    "\n",
    "# Guardar esta lista con artistas unico como CSV\n",
    "\n",
    "artistas_pop_total = pd.DataFrame (artistas_pop_total)\n",
    "\n",
    "artistas_pop_total.to_csv('../Data/artistas_pop_2022_2023.csv')"
   ]
  },
  {
   "cell_type": "markdown",
   "metadata": {},
   "source": [
    "4. Rock"
   ]
  },
  {
   "cell_type": "code",
   "execution_count": 46,
   "metadata": {},
   "outputs": [],
   "source": [
    "# Utilizar la función para extrair los datos de 2022\n",
    "\n",
    "dicc_canciones_rock_2022 = resultado_canciones_genero(sp, genero='rock', ano=2022, limite=500)"
   ]
  },
  {
   "cell_type": "code",
   "execution_count": 48,
   "metadata": {},
   "outputs": [],
   "source": [
    "# Utilizar la función para extrair los datos de 2023\n",
    "\n",
    "dicc_canciones_rock_2023 = resultado_canciones_genero(sp, genero='rock', ano=2023, limite=500)"
   ]
  },
  {
   "cell_type": "code",
   "execution_count": 49,
   "metadata": {},
   "outputs": [],
   "source": [
    "# Crear Dataframe para los dos años extraídos, 2022 y 2023.\n",
    "\n",
    "df_rock_22 = pd.DataFrame(dicc_canciones_rock_2022)\n",
    "\n",
    "df_rock_23 = pd.DataFrame(dicc_canciones_rock_2023)\n",
    "\n",
    "# Unir los dos dataframes que tenemos (de 2022 y 2023). Utilizamos el ignore_index para crear un nuevo index con las 1000 canciones\n",
    "\n",
    "dataframe_rock = pd.concat([df_rock_22, df_rock_23], ignore_index =True)"
   ]
  },
  {
   "cell_type": "code",
   "execution_count": null,
   "metadata": {},
   "outputs": [],
   "source": [
    "# Guardar este DataFrame total como CSV\n",
    "\n",
    "dataframe_rock.to_csv('../Data/dataframe_rock.csv')"
   ]
  },
  {
   "cell_type": "code",
   "execution_count": null,
   "metadata": {},
   "outputs": [],
   "source": [
    "# Lista con los artistas unicos que aparecen en estos dos años seleccionados\n",
    "\n",
    "artistas_rock_total = dataframe_rock[\"Artista\"].unique()\n",
    "\n",
    "type(dataframe_rock[\"Artista\"].unique())\n",
    "\n",
    "# Guardar esta lista con artistas unico como CSV\n",
    "\n",
    "artistas_rock_total = pd.DataFrame (artistas_rock_total)\n",
    "\n",
    "artistas_rock_total.to_csv('../Data/artistas_rock_2022_2023.csv')"
   ]
  }
 ],
 "metadata": {
  "kernelspec": {
   "display_name": "base",
   "language": "python",
   "name": "python3"
  },
  "language_info": {
   "codemirror_mode": {
    "name": "ipython",
    "version": 3
   },
   "file_extension": ".py",
   "mimetype": "text/x-python",
   "name": "python",
   "nbconvert_exporter": "python",
   "pygments_lexer": "ipython3",
   "version": "3.12.4"
  }
 },
 "nbformat": 4,
 "nbformat_minor": 2
}
