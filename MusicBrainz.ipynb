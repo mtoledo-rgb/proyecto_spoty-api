{
 "cells": [
  {
   "cell_type": "code",
   "execution_count": 4,
   "metadata": {},
   "outputs": [],
   "source": [
    "import requests\n"
   ]
  },
  {
   "cell_type": "code",
   "execution_count": 5,
   "metadata": {},
   "outputs": [
    {
     "name": "stdout",
     "output_type": "stream",
     "text": [
      "La llamada a la API nos ha dado una respuesta de tipo: 200\n"
     ]
    }
   ],
   "source": [
    "url = 'https://musicbrainz.org/ws/2/artist/?query=artist:ozuna&fmt=json'\n",
    "\n",
    "llamada = requests.get(url)\n",
    "print(f\"La llamada a la API nos ha dado una respuesta de tipo: {llamada.status_code}\")"
   ]
  },
  {
   "cell_type": "code",
   "execution_count": 6,
   "metadata": {},
   "outputs": [
    {
     "data": {
      "text/plain": [
       "{'created': '2024-10-16T11:02:58.920Z',\n",
       " 'count': 3,\n",
       " 'offset': 0,\n",
       " 'artists': [{'id': 'f2651b63-a44d-4d1d-ba64-d981d971ecd1',\n",
       "   'type': 'Person',\n",
       "   'type-id': 'b6e035f4-3ce9-331c-97df-83397230b0df',\n",
       "   'score': 100,\n",
       "   'gender-id': '36d3d30a-839d-3eda-8cb3-29be4384e4a9',\n",
       "   'name': 'Ozuna',\n",
       "   'sort-name': 'Ozuna',\n",
       "   'gender': 'male',\n",
       "   'country': 'PR',\n",
       "   'area': {'id': '3906cf32-00a7-32df-93cc-4710c5f5a542',\n",
       "    'type': 'Country',\n",
       "    'type-id': '06dd0ae4-8c74-30bb-b43d-95dcedf961de',\n",
       "    'name': 'Puerto Rico',\n",
       "    'sort-name': 'Puerto Rico',\n",
       "    'life-span': {'ended': None}},\n",
       "   'begin-area': {'id': 'c3503bb7-f32d-4536-a1af-b2623f54ab4f',\n",
       "    'type': 'City',\n",
       "    'type-id': '6fd8f29a-3d0a-32fc-980d-ea697b69da78',\n",
       "    'name': 'San Juan',\n",
       "    'sort-name': 'San Juan',\n",
       "    'life-span': {'ended': None}},\n",
       "   'ipis': ['00733893316'],\n",
       "   'isnis': ['0000000467299609'],\n",
       "   'life-span': {'begin': '1992-03-13', 'ended': None},\n",
       "   'aliases': [{'sort-name': 'Ozuna Rosado, Juan Carlos',\n",
       "     'type-id': 'd4dcd0c0-b341-3612-a332-c0ce797b25cf',\n",
       "     'name': 'Juan Carlos Ozuna Rosado',\n",
       "     'locale': None,\n",
       "     'type': 'Legal name',\n",
       "     'primary': None,\n",
       "     'begin-date': None,\n",
       "     'end-date': None}],\n",
       "   'tags': [{'count': 1, 'name': 'latin'},\n",
       "    {'count': 2, 'name': 'reggaeton'},\n",
       "    {'count': 1, 'name': 'latin urban'},\n",
       "    {'count': 1, 'name': 'latin trap'},\n",
       "    {'count': 1, 'name': 'trap latino'}]},\n",
       "  {'id': 'fd25fa9e-037d-4852-a9fb-2ea659019425',\n",
       "   'type': 'Person',\n",
       "   'type-id': 'b6e035f4-3ce9-331c-97df-83397230b0df',\n",
       "   'score': 79,\n",
       "   'name': 'Sunny Ozuna',\n",
       "   'sort-name': 'Ozuna, Sunny',\n",
       "   'life-span': {'ended': None}},\n",
       "  {'id': 'c1fe9a8b-64a9-4d1d-b589-7370bad0e71d',\n",
       "   'type': 'Person',\n",
       "   'type-id': 'b6e035f4-3ce9-331c-97df-83397230b0df',\n",
       "   'score': 78,\n",
       "   'name': 'Bobby Ozuna',\n",
       "   'sort-name': 'Ozuna, Bobby',\n",
       "   'ipis': ['00342794447'],\n",
       "   'life-span': {'ended': None}}]}"
      ]
     },
     "execution_count": 6,
     "metadata": {},
     "output_type": "execute_result"
    }
   ],
   "source": [
    "llamada.json()"
   ]
  },
  {
   "cell_type": "code",
   "execution_count": null,
   "metadata": {},
   "outputs": [],
   "source": []
  }
 ],
 "metadata": {
  "kernelspec": {
   "display_name": "Python 3",
   "language": "python",
   "name": "python3"
  },
  "language_info": {
   "codemirror_mode": {
    "name": "ipython",
    "version": 3
   },
   "file_extension": ".py",
   "mimetype": "text/x-python",
   "name": "python",
   "nbconvert_exporter": "python",
   "pygments_lexer": "ipython3",
   "version": "3.12.6"
  }
 },
 "nbformat": 4,
 "nbformat_minor": 2
}
